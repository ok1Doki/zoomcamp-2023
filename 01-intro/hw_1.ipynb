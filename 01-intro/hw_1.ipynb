{
 "cells": [
  {
   "cell_type": "markdown",
   "source": [
    "### Import dependencies and check the versions"
   ],
   "metadata": {
    "collapsed": false
   },
   "id": "18e067cc76a9d157"
  },
  {
   "cell_type": "code",
   "execution_count": 1,
   "outputs": [],
   "source": [
    "import numpy as np\n",
    "import pandas as pd"
   ],
   "metadata": {
    "collapsed": false,
    "ExecuteTime": {
     "end_time": "2023-09-14T11:57:35.310583Z",
     "start_time": "2023-09-14T11:57:35.023153Z"
    }
   },
   "id": "initial_id"
  },
  {
   "cell_type": "code",
   "execution_count": 2,
   "outputs": [
    {
     "name": "stdout",
     "output_type": "stream",
     "text": [
      "2.1.0\n",
      "1.25.2\n"
     ]
    }
   ],
   "source": [
    "print(pd.__version__)\n",
    "print(np.__version__)"
   ],
   "metadata": {
    "collapsed": false,
    "ExecuteTime": {
     "end_time": "2023-09-14T11:57:35.314417Z",
     "start_time": "2023-09-14T11:57:35.311374Z"
    }
   },
   "id": "51470295e665af7a"
  },
  {
   "cell_type": "markdown",
   "source": [
    "### Getting the data"
   ],
   "metadata": {
    "collapsed": false
   },
   "id": "afd4b517efde69d2"
  },
  {
   "cell_type": "code",
   "execution_count": 3,
   "outputs": [
    {
     "name": "stdout",
     "output_type": "stream",
     "text": [
      "mkdir: data: File exists\r\n",
      "--2023-09-14 14:57:35--  https://raw.githubusercontent.com/alexeygrigorev/datasets/master/housing.csv\r\n",
      "Resolving raw.githubusercontent.com (raw.githubusercontent.com)... 185.199.109.133, 185.199.111.133, 185.199.108.133, ...\r\n",
      "Connecting to raw.githubusercontent.com (raw.githubusercontent.com)|185.199.109.133|:443... connected.\r\n",
      "HTTP request sent, awaiting response... 200 OK\r\n",
      "Length: 1423529 (1.4M) [text/plain]\r\n",
      "Saving to: ‘data/housing.csv.1’\r\n",
      "\r\n",
      "housing.csv.1       100%[===================>]   1.36M  5.17MB/s    in 0.3s    \r\n",
      "\r\n",
      "2023-09-14 14:57:36 (5.17 MB/s) - ‘data/housing.csv.1’ saved [1423529/1423529]\r\n",
      "\r\n"
     ]
    }
   ],
   "source": [
    "!mkdir data\n",
    "!wget -P data/ https://raw.githubusercontent.com/alexeygrigorev/datasets/master/housing.csv"
   ],
   "metadata": {
    "collapsed": false,
    "ExecuteTime": {
     "end_time": "2023-09-14T11:57:36.311086Z",
     "start_time": "2023-09-14T11:57:35.314514Z"
    }
   },
   "id": "164e396a4dc20b6c"
  },
  {
   "cell_type": "markdown",
   "source": [
    "### Exploring the dataset"
   ],
   "metadata": {
    "collapsed": false
   },
   "id": "f1bfea8b2c0b3443"
  },
  {
   "cell_type": "code",
   "execution_count": 4,
   "outputs": [
    {
     "data": {
      "text/plain": "   longitude  latitude  housing_median_age  total_rooms  total_bedrooms  \\\n0    -122.23     37.88                41.0        880.0           129.0   \n1    -122.22     37.86                21.0       7099.0          1106.0   \n2    -122.24     37.85                52.0       1467.0           190.0   \n3    -122.25     37.85                52.0       1274.0           235.0   \n4    -122.25     37.85                52.0       1627.0           280.0   \n\n   population  households  median_income  median_house_value ocean_proximity  \n0       322.0       126.0         8.3252            452600.0        NEAR BAY  \n1      2401.0      1138.0         8.3014            358500.0        NEAR BAY  \n2       496.0       177.0         7.2574            352100.0        NEAR BAY  \n3       558.0       219.0         5.6431            341300.0        NEAR BAY  \n4       565.0       259.0         3.8462            342200.0        NEAR BAY  ",
      "text/html": "<div>\n<style scoped>\n    .dataframe tbody tr th:only-of-type {\n        vertical-align: middle;\n    }\n\n    .dataframe tbody tr th {\n        vertical-align: top;\n    }\n\n    .dataframe thead th {\n        text-align: right;\n    }\n</style>\n<table border=\"1\" class=\"dataframe\">\n  <thead>\n    <tr style=\"text-align: right;\">\n      <th></th>\n      <th>longitude</th>\n      <th>latitude</th>\n      <th>housing_median_age</th>\n      <th>total_rooms</th>\n      <th>total_bedrooms</th>\n      <th>population</th>\n      <th>households</th>\n      <th>median_income</th>\n      <th>median_house_value</th>\n      <th>ocean_proximity</th>\n    </tr>\n  </thead>\n  <tbody>\n    <tr>\n      <th>0</th>\n      <td>-122.23</td>\n      <td>37.88</td>\n      <td>41.0</td>\n      <td>880.0</td>\n      <td>129.0</td>\n      <td>322.0</td>\n      <td>126.0</td>\n      <td>8.3252</td>\n      <td>452600.0</td>\n      <td>NEAR BAY</td>\n    </tr>\n    <tr>\n      <th>1</th>\n      <td>-122.22</td>\n      <td>37.86</td>\n      <td>21.0</td>\n      <td>7099.0</td>\n      <td>1106.0</td>\n      <td>2401.0</td>\n      <td>1138.0</td>\n      <td>8.3014</td>\n      <td>358500.0</td>\n      <td>NEAR BAY</td>\n    </tr>\n    <tr>\n      <th>2</th>\n      <td>-122.24</td>\n      <td>37.85</td>\n      <td>52.0</td>\n      <td>1467.0</td>\n      <td>190.0</td>\n      <td>496.0</td>\n      <td>177.0</td>\n      <td>7.2574</td>\n      <td>352100.0</td>\n      <td>NEAR BAY</td>\n    </tr>\n    <tr>\n      <th>3</th>\n      <td>-122.25</td>\n      <td>37.85</td>\n      <td>52.0</td>\n      <td>1274.0</td>\n      <td>235.0</td>\n      <td>558.0</td>\n      <td>219.0</td>\n      <td>5.6431</td>\n      <td>341300.0</td>\n      <td>NEAR BAY</td>\n    </tr>\n    <tr>\n      <th>4</th>\n      <td>-122.25</td>\n      <td>37.85</td>\n      <td>52.0</td>\n      <td>1627.0</td>\n      <td>280.0</td>\n      <td>565.0</td>\n      <td>259.0</td>\n      <td>3.8462</td>\n      <td>342200.0</td>\n      <td>NEAR BAY</td>\n    </tr>\n  </tbody>\n</table>\n</div>"
     },
     "execution_count": 4,
     "metadata": {},
     "output_type": "execute_result"
    }
   ],
   "source": [
    "df = pd.read_csv(\"data/housing.csv\")\n",
    "\n",
    "df.head()"
   ],
   "metadata": {
    "collapsed": false,
    "ExecuteTime": {
     "end_time": "2023-09-14T11:57:36.340226Z",
     "start_time": "2023-09-14T11:57:36.312118Z"
    }
   },
   "id": "d9246b7a06ed90d9"
  },
  {
   "cell_type": "code",
   "execution_count": 5,
   "outputs": [
    {
     "data": {
      "text/plain": "       longitude  latitude  housing_median_age  total_rooms  total_bedrooms  \\\n290      -122.16     37.77                47.0       1256.0             NaN   \n341      -122.17     37.75                38.0        992.0             NaN   \n538      -122.28     37.78                29.0       5154.0             NaN   \n563      -122.24     37.75                45.0        891.0             NaN   \n696      -122.10     37.69                41.0        746.0             NaN   \n...          ...       ...                 ...          ...             ...   \n20267    -119.19     34.20                18.0       3620.0             NaN   \n20268    -119.18     34.19                19.0       2393.0             NaN   \n20372    -118.88     34.17                15.0       4260.0             NaN   \n20460    -118.75     34.29                17.0       5512.0             NaN   \n20484    -118.72     34.28                17.0       3051.0             NaN   \n\n       population  households  median_income  median_house_value  \\\n290         570.0       218.0         4.3750            161900.0   \n341         732.0       259.0         1.6196             85100.0   \n538        3741.0      1273.0         2.5762            173400.0   \n563         384.0       146.0         4.9489            247100.0   \n696         387.0       161.0         3.9063            178400.0   \n...           ...         ...            ...                 ...   \n20267      3171.0       779.0         3.3409            220500.0   \n20268      1938.0       762.0         1.6953            167400.0   \n20372      1701.0       669.0         5.1033            410700.0   \n20460      2734.0       814.0         6.6073            258100.0   \n20484      1705.0       495.0         5.7376            218600.0   \n\n      ocean_proximity  \n290          NEAR BAY  \n341          NEAR BAY  \n538          NEAR BAY  \n563          NEAR BAY  \n696          NEAR BAY  \n...               ...  \n20267      NEAR OCEAN  \n20268      NEAR OCEAN  \n20372       <1H OCEAN  \n20460       <1H OCEAN  \n20484       <1H OCEAN  \n\n[207 rows x 10 columns]",
      "text/html": "<div>\n<style scoped>\n    .dataframe tbody tr th:only-of-type {\n        vertical-align: middle;\n    }\n\n    .dataframe tbody tr th {\n        vertical-align: top;\n    }\n\n    .dataframe thead th {\n        text-align: right;\n    }\n</style>\n<table border=\"1\" class=\"dataframe\">\n  <thead>\n    <tr style=\"text-align: right;\">\n      <th></th>\n      <th>longitude</th>\n      <th>latitude</th>\n      <th>housing_median_age</th>\n      <th>total_rooms</th>\n      <th>total_bedrooms</th>\n      <th>population</th>\n      <th>households</th>\n      <th>median_income</th>\n      <th>median_house_value</th>\n      <th>ocean_proximity</th>\n    </tr>\n  </thead>\n  <tbody>\n    <tr>\n      <th>290</th>\n      <td>-122.16</td>\n      <td>37.77</td>\n      <td>47.0</td>\n      <td>1256.0</td>\n      <td>NaN</td>\n      <td>570.0</td>\n      <td>218.0</td>\n      <td>4.3750</td>\n      <td>161900.0</td>\n      <td>NEAR BAY</td>\n    </tr>\n    <tr>\n      <th>341</th>\n      <td>-122.17</td>\n      <td>37.75</td>\n      <td>38.0</td>\n      <td>992.0</td>\n      <td>NaN</td>\n      <td>732.0</td>\n      <td>259.0</td>\n      <td>1.6196</td>\n      <td>85100.0</td>\n      <td>NEAR BAY</td>\n    </tr>\n    <tr>\n      <th>538</th>\n      <td>-122.28</td>\n      <td>37.78</td>\n      <td>29.0</td>\n      <td>5154.0</td>\n      <td>NaN</td>\n      <td>3741.0</td>\n      <td>1273.0</td>\n      <td>2.5762</td>\n      <td>173400.0</td>\n      <td>NEAR BAY</td>\n    </tr>\n    <tr>\n      <th>563</th>\n      <td>-122.24</td>\n      <td>37.75</td>\n      <td>45.0</td>\n      <td>891.0</td>\n      <td>NaN</td>\n      <td>384.0</td>\n      <td>146.0</td>\n      <td>4.9489</td>\n      <td>247100.0</td>\n      <td>NEAR BAY</td>\n    </tr>\n    <tr>\n      <th>696</th>\n      <td>-122.10</td>\n      <td>37.69</td>\n      <td>41.0</td>\n      <td>746.0</td>\n      <td>NaN</td>\n      <td>387.0</td>\n      <td>161.0</td>\n      <td>3.9063</td>\n      <td>178400.0</td>\n      <td>NEAR BAY</td>\n    </tr>\n    <tr>\n      <th>...</th>\n      <td>...</td>\n      <td>...</td>\n      <td>...</td>\n      <td>...</td>\n      <td>...</td>\n      <td>...</td>\n      <td>...</td>\n      <td>...</td>\n      <td>...</td>\n      <td>...</td>\n    </tr>\n    <tr>\n      <th>20267</th>\n      <td>-119.19</td>\n      <td>34.20</td>\n      <td>18.0</td>\n      <td>3620.0</td>\n      <td>NaN</td>\n      <td>3171.0</td>\n      <td>779.0</td>\n      <td>3.3409</td>\n      <td>220500.0</td>\n      <td>NEAR OCEAN</td>\n    </tr>\n    <tr>\n      <th>20268</th>\n      <td>-119.18</td>\n      <td>34.19</td>\n      <td>19.0</td>\n      <td>2393.0</td>\n      <td>NaN</td>\n      <td>1938.0</td>\n      <td>762.0</td>\n      <td>1.6953</td>\n      <td>167400.0</td>\n      <td>NEAR OCEAN</td>\n    </tr>\n    <tr>\n      <th>20372</th>\n      <td>-118.88</td>\n      <td>34.17</td>\n      <td>15.0</td>\n      <td>4260.0</td>\n      <td>NaN</td>\n      <td>1701.0</td>\n      <td>669.0</td>\n      <td>5.1033</td>\n      <td>410700.0</td>\n      <td>&lt;1H OCEAN</td>\n    </tr>\n    <tr>\n      <th>20460</th>\n      <td>-118.75</td>\n      <td>34.29</td>\n      <td>17.0</td>\n      <td>5512.0</td>\n      <td>NaN</td>\n      <td>2734.0</td>\n      <td>814.0</td>\n      <td>6.6073</td>\n      <td>258100.0</td>\n      <td>&lt;1H OCEAN</td>\n    </tr>\n    <tr>\n      <th>20484</th>\n      <td>-118.72</td>\n      <td>34.28</td>\n      <td>17.0</td>\n      <td>3051.0</td>\n      <td>NaN</td>\n      <td>1705.0</td>\n      <td>495.0</td>\n      <td>5.7376</td>\n      <td>218600.0</td>\n      <td>&lt;1H OCEAN</td>\n    </tr>\n  </tbody>\n</table>\n<p>207 rows × 10 columns</p>\n</div>"
     },
     "execution_count": 5,
     "metadata": {},
     "output_type": "execute_result"
    }
   ],
   "source": [
    "df[df['total_bedrooms'].isnull()]"
   ],
   "metadata": {
    "collapsed": false,
    "ExecuteTime": {
     "end_time": "2023-09-14T11:57:36.353465Z",
     "start_time": "2023-09-14T11:57:36.349113Z"
    }
   },
   "id": "4104d8b8e418d315"
  },
  {
   "cell_type": "code",
   "execution_count": 6,
   "outputs": [
    {
     "data": {
      "text/plain": "array(['NEAR BAY', '<1H OCEAN', 'INLAND', 'NEAR OCEAN', 'ISLAND'],\n      dtype=object)"
     },
     "execution_count": 6,
     "metadata": {},
     "output_type": "execute_result"
    }
   ],
   "source": [
    "df['ocean_proximity'].unique()"
   ],
   "metadata": {
    "collapsed": false,
    "ExecuteTime": {
     "end_time": "2023-09-14T11:57:36.356728Z",
     "start_time": "2023-09-14T11:57:36.352289Z"
    }
   },
   "id": "f50dd47f2d41911c"
  },
  {
   "cell_type": "code",
   "execution_count": 7,
   "outputs": [
    {
     "data": {
      "text/plain": "259212.31179039303"
     },
     "execution_count": 7,
     "metadata": {},
     "output_type": "execute_result"
    }
   ],
   "source": [
    "df[df.ocean_proximity == 'NEAR BAY'][\"median_house_value\"].mean()"
   ],
   "metadata": {
    "collapsed": false,
    "ExecuteTime": {
     "end_time": "2023-09-14T11:57:36.365167Z",
     "start_time": "2023-09-14T11:57:36.357642Z"
    }
   },
   "id": "56b93fe707f157f5"
  },
  {
   "cell_type": "code",
   "execution_count": 8,
   "outputs": [
    {
     "data": {
      "text/plain": "537.8705525375618"
     },
     "execution_count": 8,
     "metadata": {},
     "output_type": "execute_result"
    }
   ],
   "source": [
    "avg_total_bedrooms = df['total_bedrooms'].mean()\n",
    "\n",
    "avg_total_bedrooms"
   ],
   "metadata": {
    "collapsed": false,
    "ExecuteTime": {
     "end_time": "2023-09-14T11:57:36.377445Z",
     "start_time": "2023-09-14T11:57:36.360892Z"
    }
   },
   "id": "2a1f67152d1383ee"
  },
  {
   "cell_type": "code",
   "execution_count": 9,
   "outputs": [],
   "source": [
    "df['total_bedrooms'] = df['total_bedrooms'].fillna(avg_total_bedrooms)"
   ],
   "metadata": {
    "collapsed": false,
    "ExecuteTime": {
     "end_time": "2023-09-14T11:57:36.377708Z",
     "start_time": "2023-09-14T11:57:36.364158Z"
    }
   },
   "id": "f7199bf9a9e31669"
  },
  {
   "cell_type": "code",
   "execution_count": 10,
   "outputs": [
    {
     "data": {
      "text/plain": "537.8705525375617"
     },
     "execution_count": 10,
     "metadata": {},
     "output_type": "execute_result"
    }
   ],
   "source": [
    "df['total_bedrooms'].mean()"
   ],
   "metadata": {
    "collapsed": false,
    "ExecuteTime": {
     "end_time": "2023-09-14T11:57:36.414960Z",
     "start_time": "2023-09-14T11:57:36.367779Z"
    }
   },
   "id": "101f780144c24656"
  },
  {
   "cell_type": "code",
   "execution_count": 11,
   "outputs": [
    {
     "data": {
      "text/plain": "5.699229455065618"
     },
     "execution_count": 11,
     "metadata": {},
     "output_type": "execute_result"
    }
   ],
   "source": [
    "island_options = df[df['ocean_proximity'] == 'ISLAND']\n",
    "\n",
    "selected_columns = island_options[['housing_median_age', 'total_rooms', 'total_bedrooms']]\n",
    "X = selected_columns.values\n",
    "XTX = np.dot(X.T, X)\n",
    "\n",
    "y = np.array([950, 1300, 800, 1000, 1300])\n",
    "\n",
    "XTX_inv = np.linalg.pinv(XTX)\n",
    "\n",
    "w = np.dot(np.dot(XTX_inv, X.T), y)\n",
    "\n",
    "last_element_of_w = w[-1]\n",
    "\n",
    "last_element_of_w"
   ],
   "metadata": {
    "collapsed": false,
    "ExecuteTime": {
     "end_time": "2023-09-14T11:57:36.419872Z",
     "start_time": "2023-09-14T11:57:36.374395Z"
    }
   },
   "id": "a396a272d7eb69da"
  }
 ],
 "metadata": {
  "kernelspec": {
   "display_name": "Python 3",
   "language": "python",
   "name": "python3"
  },
  "language_info": {
   "codemirror_mode": {
    "name": "ipython",
    "version": 2
   },
   "file_extension": ".py",
   "mimetype": "text/x-python",
   "name": "python",
   "nbconvert_exporter": "python",
   "pygments_lexer": "ipython2",
   "version": "2.7.6"
  }
 },
 "nbformat": 4,
 "nbformat_minor": 5
}
